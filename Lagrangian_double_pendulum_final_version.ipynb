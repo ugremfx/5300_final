{
 "cells": [
  {
   "cell_type": "markdown",
   "metadata": {},
   "source": [
    "# Double pendulum using Lagrange's equation\n",
    "\n",
    "Defines a LagrangianPendulum class that is used to generate basic pendulum plots from solving Lagrange's equations.\n",
    "\n",
    "* Last revised 04-Apr-2020 by Federico Gremmo (gremmo.1@osu.edu)."
   ]
  },
  {
   "cell_type": "markdown",
   "metadata": {},
   "source": [
    "## Euler-Lagrange equation\n",
    "\n",
    "For a simple pendulum, the Lagrangian with generalized coordinate $\\phi$ is\n",
    "\n",
    "$\\begin{align}\n",
    "  \\mathcal{L} = \\frac12 m L^2 \\dot\\phi^2 - mgL(1 - \\cos\\phi)\n",
    "\\end{align}$\n",
    "\n",
    "The Euler-Lagrange equation is\n",
    "\n",
    "$\\begin{align}\n",
    " \\frac{d}{dt}\\frac{\\partial\\mathcal{L}}{\\partial \\dot\\phi} = \\frac{\\partial\\mathcal L}{\\partial\\phi}\n",
    " \\quad\\Longrightarrow\\quad\n",
    " m L^2 \\ddot \\phi = -mgL\\sin\\phi\n",
    "  \\ \\mbox{or}\\ \\ddot\\phi = - \\omega_0^2\\sin\\phi = 0\n",
    "  \\;.\n",
    "\\end{align}$\n",
    "\n",
    "## Hamilton's equations\n",
    "\n",
    "The generalized momentum corresponding to $\\phi$ is\n",
    "\n",
    "$\\begin{align}\n",
    "   \\frac{\\partial\\mathcal{L}}{\\partial \\dot\\phi} = m L^2 \\dot\\phi \\equiv p_\\phi\n",
    "   \\;.\n",
    "\\end{align}$\n",
    "\n",
    "We can invert this equation to find $\\dot\\phi = p_\\phi / m L^2$.\n",
    "Constructing the Hamiltonian by Legendre transformation we find \n",
    "\n",
    "$\\begin{align}\n",
    "  \\mathcal{H} &= \\dot\\phi p_\\phi  - \\mathcal{L} \\\\\n",
    "              &= \\frac{p_\\phi^2}{m L^2} - \\frac12 m L^2 \\dot\\phi^2 + mgL(1 - \\cos\\phi) \\\\\n",
    "              &= \\frac{p_\\phi^2}{2 m L^2} + mgL(1 - \\cos\\phi)\n",
    "              \\;.\n",
    "\\end{align}$\n",
    "\n",
    "Thus $\\mathcal{H}$ is simply $T + V$.  Hamilton's equations are\n",
    "\n",
    "$\\begin{align}\n",
    "  \\dot\\phi &= \\frac{\\partial\\mathcal{H}}{\\partial p_\\phi} = \\frac{p_\\phi}{m L^2} \\\\\n",
    "  \\dot p_\\phi &= -\\frac{\\partial\\mathcal{H}}{\\partial \\phi} = -mgL \\sin\\phi \n",
    "  \\;.\n",
    "\\end{align}$"
   ]
  },
  {
   "cell_type": "code",
   "execution_count": 1,
   "metadata": {},
   "outputs": [],
   "source": [
    "%matplotlib inline"
   ]
  },
  {
   "cell_type": "code",
   "execution_count": 2,
   "metadata": {},
   "outputs": [],
   "source": [
    "import numpy as np\n",
    "from scipy.integrate import odeint, solve_ivp\n",
    "\n",
    "from matplotlib import animation, rc\n",
    "import matplotlib.pyplot as plt"
   ]
  },
  {
   "cell_type": "code",
   "execution_count": 3,
   "metadata": {},
   "outputs": [],
   "source": [
    "# The dpi (dots-per-inch) setting will affect the resolution and how large\n",
    "#  the plots appear on screen and printed.  So you may want/need to adjust \n",
    "#  the figsize when creating the figure.\n",
    "plt.rcParams['figure.dpi'] = 100.    # this is the default for notebook\n",
    "\n",
    "# Change the common font size (smaller when higher dpi)\n",
    "font_size = 12\n",
    "plt.rcParams.update({'font.size': font_size})"
   ]
  },
  {
   "cell_type": "markdown",
   "metadata": {},
   "source": [
    "## Pendulum class and utility functions"
   ]
  },
  {
   "cell_type": "code",
   "execution_count": 4,
   "metadata": {},
   "outputs": [],
   "source": [
    "class LagrangianPendulum():\n",
    "    \"\"\"\n",
    "    Pendulum class implements the parameters and Lagrange's equations for \n",
    "     a simple pendulum (no driving or damping).\n",
    "     \n",
    "    Parameters\n",
    "    ----------\n",
    "    L1, L1 : float\n",
    "        length of the first and second pendulums\n",
    "    g : float\n",
    "        gravitational acceleration at the earth's surface\n",
    "    m1, m2 : float\n",
    "        mass of pendulums\n",
    "\n",
    "    Methods\n",
    "    -------\n",
    "    dy_dt(t, y)\n",
    "        Returns the right side of the differential equation in vector y, \n",
    "        given time t and the corresponding value of y.\n",
    "    \"\"\"\n",
    "    def __init__(self, L1 = 1., L2 = 1., m1 = 1., m2 = 1., g = 1. #Defines the attributes of the class LagrangianPendulum.\n",
    "                ):\n",
    "        self.L1 = L1\n",
    "        self.g = g\n",
    "        self.m1 = m1\n",
    "        self.L2 = L2\n",
    "        self.m2 = m2\n",
    "           \n",
    "    def dy_dt(self, t, y): #This function returns the angles tetha1 and tetha2 as a functon \n",
    "                           #of time, as defined in the solution of the EOM's.\n",
    "        \"\"\"\n",
    "        This function returns the right-hand side of the diffeq: \n",
    "        [dphi/dt d^2phi/dt^2]\n",
    "        \n",
    "        Parameters\n",
    "        ----------\n",
    "        t : float\n",
    "            time \n",
    "        y : float\n",
    "            A 2-component vector with y[0] = phi(t) and y[1] = dphi/dt\n",
    "            \n",
    "        Returns\n",
    "        -------        \n",
    "        \"\"\"     \n",
    "        phi_1, phi_dot_1, phi_2, phi_dot_2 = y\n",
    "        return [y[1],\\\n",
    "                (-self.g*(2*self.m1+self.m2)*np.sin(phi_1)-self.m2*g*np.sin(phi_1-phi_2)-2*np.sin(phi_1-phi_2)*self.m2*(phi_dot_2**2*self.L2+phi_dot_1**2*self.L1*np.cos(phi_1-phi_2)))/(self.L1*(2*self.m1+self.m2-self.m2*np.cos(2*phi_1-2*phi_2))),\\\n",
    "                y[3],\\\n",
    "                (2*np.sin(phi_1-phi_2)*(phi_dot_1**2*self.L1*(self.m1+self.m2)+self.g*(self.m1+self.m2)*np.cos(phi_1)+phi_dot_2**2*self.L2*self.m2*np.cos(phi_1-phi_2)))/(self.L2*(2*self.m1+self.m2-self.m2*np.cos(2*phi_1-2*phi_2)))]\n",
    "    \n",
    "   \n",
    "    def solve_ode(self, t_pts, phi_1_0, phi_dot_1_0, phi_2_0, phi_dot_2_0, #Solves the ODE.\n",
    "                  abserr=1.0e-9, relerr=1.0e-9):                           #I do not understand the syntax\n",
    "        \"\"\"\n",
    "        Solve the ODE given initial conditions.\n",
    "        Specify smaller abserr and relerr to get more precision.\n",
    "        \"\"\"\n",
    "        y = [phi_1_0, phi_dot_1_0, phi_2_0, phi_dot_2_0] \n",
    "        solution = solve_ivp(self.dy_dt, (t_pts[0], t_pts[-1]), \n",
    "                             y, t_eval=t_pts, \n",
    "                             atol=abserr, rtol=relerr)\n",
    "        phi_1, phi_dot_1, phi_2, phi_dot_2 = solution.y\n",
    "\n",
    "        return phi_1, phi_dot_1, phi_2, phi_dot_2\n",
    "    \n",
    "    def evolve(self):\n",
    "        theta1 = self.theta1\n",
    "        theta2 = self.theta2\n",
    "        p1 = self.p1\n",
    "        p2 = self.p2\n",
    "        g = self.g\n",
    "        l = self.length\n",
    "        self.solve_ode()\n",
    " \n",
    "        new_position = self.polar_to_cartesian()\n",
    "        self.trajectory.append(new_position)\n",
    "        return new_position"
   ]
  },
  {
   "cell_type": "code",
   "execution_count": 5,
   "metadata": {},
   "outputs": [],
   "source": [
    "def plot_y_vs_x(x, y, axis_labels=None, label=None, title=None, \n",
    "                color=None, linestyle=None, semilogy=False, loglog=False,\n",
    "                ax=None):\n",
    "    \"\"\"\n",
    "    Generic plotting function: return a figure axis with a plot of y vs. x,\n",
    "    with line color and style, title, axis labels, and line label\n",
    "    \"\"\"\n",
    "    if ax is None:        # if the axis object doesn't exist, make one\n",
    "        ax = plt.gca()\n",
    "\n",
    "    if (semilogy):\n",
    "        line, = ax.semilogy(x, y, label=label, \n",
    "                            color=color, linestyle=linestyle)\n",
    "    elif (loglog):\n",
    "        line, = ax.loglog(x, y, label=label, \n",
    "                          color=color, linestyle=linestyle)\n",
    "    else:\n",
    "        line, = ax.plot(x, y, label=label, \n",
    "                    color=color, linestyle=linestyle)\n",
    "\n",
    "    if label is not None:    # if a label if passed, show the legend\n",
    "        ax.legend()\n",
    "    if title is not None:    # set a title if one if passed\n",
    "        ax.set_title(title)\n",
    "    if axis_labels is not None:  # set x-axis and y-axis labels if passed  \n",
    "        ax.set_xlabel(axis_labels[0])\n",
    "        ax.set_ylabel(axis_labels[1])\n",
    "\n",
    "    return ax, line"
   ]
  },
  {
   "cell_type": "code",
   "execution_count": 6,
   "metadata": {},
   "outputs": [],
   "source": [
    "def start_stop_indices(t_pts, plot_start, plot_stop):\n",
    "    start_index = (np.fabs(t_pts-plot_start)).argmin()  # index in t_pts array \n",
    "    stop_index = (np.fabs(t_pts-plot_stop)).argmin()  # index in t_pts array \n",
    "    return start_index, stop_index"
   ]
  },
  {
   "cell_type": "markdown",
   "metadata": {},
   "source": [
    "## Make simple pendulum plots "
   ]
  },
  {
   "cell_type": "code",
   "execution_count": 7,
   "metadata": {
    "scrolled": false
   },
   "outputs": [],
   "source": [
    "# Labels for individual plot axes\n",
    "phi_1_vs_time_labels = (r'$t$', r'$\\phi_{{1}}(t)$')\n",
    "phi_2_vs_time_labels = (r'$t$', r'$\\phi_{{2}}(t)$')\n",
    "phi_a_vs_phi_b_labels = (r'$\\phi_{{2}}(t)$', r'$\\phi_{{1}}(t)$')\n",
    "\n",
    "# Common plotting time (generate the full time then use slices)\n",
    "t_start = 0.\n",
    "t_end = 50.\n",
    "delta_t = 0.001\n",
    "\n",
    "t_pts = np.arange(t_start, t_end+delta_t, delta_t)  \n",
    "\n",
    "L = 1.\n",
    "g = 1.\n",
    "mass = 1.\n",
    "\n",
    "# Instantiate a pendulum \n",
    "p1 = LagrangianPendulum(L1=1., L2 = 1., m1=1., m2=1., g=1.)\n"
   ]
  },
  {
   "cell_type": "code",
   "execution_count": 8,
   "metadata": {},
   "outputs": [
    {
     "data": {
      "image/png": "[encoded data removed]",
      "text/plain": [
       "<Figure size 1500x500 with 2 Axes>"
      ]
     },
     "metadata": {
      "needs_background": "light"
     },
     "output_type": "display_data"
    }
   ],
   "source": [
    "# both plots: same initial conditions\n",
    "phi_1_0 = np.pi\n",
    "phi_2_0 = np.pi - 0.03\n",
    "phi_dot_1_0 = 0\n",
    "phi_dot_2_0 = 0\n",
    "\n",
    "phi_1, phi_dot_1, phi_2, phi_dot_2 = p1.solve_ode(t_pts, phi_1_0, phi_dot_1_0, phi_2_0, phi_dot_2_0)\n",
    "\n",
    "# start the plot!\n",
    "fig = plt.figure(figsize=(15,5))\n",
    "overall_title = 'Double pendulum from Lagrangian:  ' + \\\n",
    "                rf' $\\phi_{{1_0}} = {phi_1_0:.3f},$' + \\\n",
    "                rf' $\\phi_{{2_0}} = {phi_2_0:.3f}$' + \\\n",
    "                '\\n'     # \\n means a new line (adds some space here)\n",
    "fig.suptitle(overall_title, va='baseline')\n",
    "    \n",
    "# first plot: phi_1 plot \n",
    "ax_a = fig.add_subplot(1,2,1)                  \n",
    "\n",
    "start, stop = start_stop_indices(t_pts, t_start, t_end)    \n",
    "plot_y_vs_x(t_pts[start : stop], phi_1[start : stop], \n",
    "            axis_labels=phi_1_vs_time_labels, \n",
    "            color='blue',\n",
    "            label=None, \n",
    "            title=r'$\\phi_{{1}}(t)$', \n",
    "            ax=ax_a)    \n",
    "                              \n",
    "# second plot: phi_2 plot \n",
    "ax_b = fig.add_subplot(1,2,2)                  \n",
    "\n",
    "start, stop = start_stop_indices(t_pts, t_start, t_end)    \n",
    "plot_y_vs_x(t_pts[start : stop], phi_2[start : stop], \n",
    "            axis_labels=phi_2_vs_time_labels, \n",
    "            color='blue',\n",
    "            label=None, \n",
    "            title=r'$\\phi_{{2}}(t)$', \n",
    "            ax=ax_b)    \n",
    "\n",
    "fig.tight_layout()\n",
    "fig.savefig('simple_pendulum_Lagrange.png', bbox_inches='tight')  "
   ]
  },
  {
   "cell_type": "markdown",
   "metadata": {},
   "source": [
    "Now trying the power spectrum, plotting only positive frequencies and cutting off the lower peaks:"
   ]
  },
  {
   "cell_type": "code",
   "execution_count": 9,
   "metadata": {},
   "outputs": [
    {
     "data": {
      "image/png": "[encoded data removed]",
      "text/plain": [
       "<Figure size 1000x500 with 1 Axes>"
      ]
     },
     "metadata": {
      "needs_background": "light"
     },
     "output_type": "display_data"
    }
   ],
   "source": [
    "start, stop = start_stop_indices(t_pts, t_start, t_end)    \n",
    "signal = phi_1[start:stop]\n",
    "power_spectrum = np.abs(np.fft.fft(signal))**2\n",
    "freqs = np.fft.fftfreq(signal.size, delta_t)\n",
    "idx = np.argsort(freqs)\n",
    "\n",
    "fig_ps = plt.figure(figsize=(10,5))\n",
    "ax_ps = fig_ps.add_subplot(1,1,1)\n",
    "ax_ps.semilogy(freqs[idx], power_spectrum[idx], color='blue')\n",
    "ax_ps.set_xlim(0, 1.)\n",
    "ax_ps.set_ylim(1.e5, 1.e11)\n",
    "ax_ps.set_xlabel('frequency')\n",
    "ax_ps.set_title('Power Spectrum')\n",
    "\n",
    "fig_ps.tight_layout()"
   ]
  },
  {
   "cell_type": "markdown",
   "metadata": {},
   "source": [
    "# Animated Lagrangian Double Pendulum\n",
    "\n",
    "Now in order to visualize the movement of the pendulum from the calculates ODEs I have built an animator and updated the definition of the pendulum to don't receive parameters of time, so it can be used by FuncAnimate from Matplotlib to interate and calculate the ODE every time."
   ]
  },
  {
   "cell_type": "code",
   "execution_count": 10,
   "metadata": {},
   "outputs": [],
   "source": [
    "import matplotlib\n",
    "%matplotlib qt5\n",
    "matplotlib.use('Qt5Agg')\n",
    "import matplotlib.pyplot as plt \n",
    "import scipy as sp\n",
    "import matplotlib.animation as animation"
   ]
  },
  {
   "cell_type": "code",
   "execution_count": 11,
   "metadata": {},
   "outputs": [],
   "source": [
    "class AnimatedLagrangianPendulum:\n",
    "    \n",
    "    def __init__(self, theta1, theta2, dt):\n",
    "        self.theta1 = theta1\n",
    "        self.theta2 = theta2\n",
    "        self.p1 = 0.0\n",
    "        self.p2 = 0.0\n",
    "        self.dt = dt\n",
    "        self.g = 9.81\n",
    "        self.length = 1.0\n",
    "         \n",
    "        self.trajectory = [self.polar_to_cartesian()]\n",
    " \n",
    "    def polar_to_cartesian(self):\n",
    "        x1 =  self.length * sp.sin(self.theta1)        \n",
    "        y1 = -self.length * sp.cos(self.theta1)\n",
    "         \n",
    "        x2 = x1 + self.length * sp.sin(self.theta2)\n",
    "        y2 = y1 - self.length * sp.cos(self.theta2)\n",
    "         \n",
    "        return sp.array([[0.0, 0.0], [x1, y1], [x2, y2]])\n",
    "    \n",
    "    def evolve(self):\n",
    "        theta1 = self.theta1\n",
    "        theta2 = self.theta2\n",
    "        p1 = self.p1\n",
    "        p2 = self.p2\n",
    "        g = self.g\n",
    "        l = self.length\n",
    " \n",
    "        expr1 = sp.cos(theta1 - theta2)\n",
    "        expr2 = sp.sin(theta1 - theta2)\n",
    "        expr3 = (1 + expr2**2)\n",
    "        expr4 = p1 * p2 * expr2 / expr3\n",
    "        expr5 = (p1**2 + 2 * p2**2 - p1 * p2 * expr1) * sp.sin(2 * (theta1 - theta2)) / 2 / expr3**2\n",
    "        expr6 = expr4 - expr5\n",
    " \n",
    "        self.theta1 += self.dt * (p1 - p2 * expr1) / expr3\n",
    "        self.theta2 += self.dt * (2 * p2 - p1 * expr1) / expr3\n",
    "        self.p1 += self.dt * (-2 * g * l * sp.sin(theta1) - expr6)\n",
    "        self.p2 += self.dt * (-g * l * sp.sin(theta2) + expr6)\n",
    " \n",
    "        new_position = self.polar_to_cartesian()\n",
    "        self.trajectory.append(new_position)\n",
    "        return new_position"
   ]
  },
  {
   "cell_type": "code",
   "execution_count": 12,
   "metadata": {},
   "outputs": [],
   "source": [
    "class PendulumAnimator:\n",
    "    \"\"\"\n",
    "        pendulum: defined pendulum in the exercise with its trajectory\n",
    "        draw_trace: trace or not a line to follow the second pendulum movement\n",
    "    \"\"\"\n",
    "    def __init__(self, pendulum, draw_trace=False):\n",
    "        self.pendulum = pendulum\n",
    "        self.draw_trace = draw_trace\n",
    "        self.time = 0.0\n",
    " \n",
    "        # set up the figure\n",
    "        self.fig, self.ax = plt.subplots()\n",
    "        self.ax.set_ylim(-2.5, 2.5)\n",
    "        self.ax.set_xlim(-2.5, 2.5)\n",
    " \n",
    "        # prepare a text window for the timer\n",
    "        self.time_text = self.ax.text(0.05, 0.95, '', \n",
    "            horizontalalignment='left', \n",
    "            verticalalignment='top', \n",
    "            transform=self.ax.transAxes)\n",
    " \n",
    "        # initialize by plotting the last position of the trajectory\n",
    "        self.line, = self.ax.plot(\n",
    "            self.pendulum.trajectory[-1][:, 0], \n",
    "            self.pendulum.trajectory[-1][:, 1], \n",
    "            marker='o')\n",
    "         \n",
    "        # trace the whole trajectory of the second pendulum mass\n",
    "        if self.draw_trace:\n",
    "            self.trace, = self.ax.plot(\n",
    "                [a[2, 0] for a in self.pendulum.trajectory],\n",
    "                [a[2, 1] for a in self.pendulum.trajectory])\n",
    "            \n",
    "    def advance_time_step(self):\n",
    "        while True:\n",
    "            self.time += self.pendulum.dt\n",
    "            yield self.pendulum.evolve()\n",
    "            \n",
    "    def update(self, data):\n",
    "        self.time_text.set_text('Elapsed time: {:6.2f} s'.format(self.time))\n",
    "     \n",
    "        self.line.set_ydata(data[:, 1])\n",
    "        self.line.set_xdata(data[:, 0])\n",
    "         \n",
    "        if self.draw_trace:\n",
    "            self.trace.set_xdata([a[2, 0] for a in self.pendulum.trajectory])\n",
    "            self.trace.set_ydata([a[2, 1] for a in self.pendulum.trajectory])\n",
    "        return self.line,\n",
    "    \n",
    "    def animate(self):\n",
    "        self.animation = animation.FuncAnimation(self.fig, self.update,\n",
    "                         self.advance_time_step, interval=25, blit=False)"
   ]
  },
  {
   "cell_type": "code",
   "execution_count": 13,
   "metadata": {},
   "outputs": [],
   "source": [
    "pendulum1 = AnimatedLagrangianPendulum(theta1=sp.pi, theta2=sp.pi-0.003, dt=0.01)\n",
    "animator1 = PendulumAnimator(pendulum=pendulum1, draw_trace=False)\n",
    "animator1.animate()\n",
    "\n",
    "pendulum2 = AnimatedLagrangianPendulum(theta1=sp.pi, theta2=sp.pi-0.25, dt=0.01)\n",
    "animator2 = PendulumAnimator(pendulum=pendulum2, draw_trace=False)\n",
    "animator2.animate()\n",
    "\n",
    "plt.show()"
   ]
  },
  {
   "cell_type": "code",
   "execution_count": null,
   "metadata": {},
   "outputs": [],
   "source": []
  }
 ],
 "metadata": {
  "kernelspec": {
   "display_name": "Python 3",
   "language": "python",
   "name": "python3"
  },
  "language_info": {
   "codemirror_mode": {
    "name": "ipython",
    "version": 3
   },
   "file_extension": ".py",
   "mimetype": "text/x-python",
   "name": "python",
   "nbconvert_exporter": "python",
   "pygments_lexer": "ipython3",
   "version": "3.7.4"
  }
 },
 "nbformat": 4,
 "nbformat_minor": 2
}
