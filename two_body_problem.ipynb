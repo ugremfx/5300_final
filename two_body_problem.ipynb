{
 "cells": [
  {
   "cell_type": "code",
   "execution_count": 1,
   "metadata": {},
   "outputs": [],
   "source": [
    "%matplotlib inline"
   ]
  },
  {
   "cell_type": "code",
   "execution_count": 2,
   "metadata": {},
   "outputs": [],
   "source": [
    "import numpy as np\n",
    "from scipy.integrate import odeint, solve_ivp\n",
    "\n",
    "import matplotlib.pyplot as plt\n",
    "from matplotlib import animation, rc\n",
    "from IPython.display import HTML"
   ]
  },
  {
   "cell_type": "code",
   "execution_count": 3,
   "metadata": {},
   "outputs": [],
   "source": [
    "# The dpi (dots-per-inch) setting will affect the resolution and how large\n",
    "#  the plots appear on screen and printed.  So you may want/need to adjust \n",
    "#  the figsize when creating the figure.\n",
    "plt.rcParams['figure.dpi'] = 100.    # this is the default for notebook\n",
    "\n",
    "# Change the common font size (smaller when higher dpi)\n",
    "font_size = 12\n",
    "plt.rcParams.update({'font.size': font_size})"
   ]
  },
  {
   "cell_type": "code",
   "execution_count": null,
   "metadata": {},
   "outputs": [],
   "source": [
    "class TwoBodyProblem():\n",
    "    \n",
    "    def __init__(self, m1 = 1, m2 = 2, G = 6.67408*(10^-11):\n",
    "        self.m1 = m1\n",
    "        self.m2 = m2\n",
    "        self.G = G\n",
    "    \n",
    "    def dy_dt(self, t, y):\n",
    "                 \n",
    "        x_1, x_dot_1, x_2, x_dot_2, y_1, y_dot_1, y_2, y_dot = y\n",
    "                 \n",
    "        return[y[1],\\\n",
    "               '''INSERT EQUATION OF MOTION HERE''',\\\n",
    "               y[3],\\\n",
    "               '''INSERT EQUATION OF MOTION HERE''',\\\n",
    "               y[5],\\\n",
    "               '''INSERT EQUATION OF MOTION HERE''',\\\n",
    "               y[7],\\\n",
    "               '''INSERT EQUATION OF MOTION HERE''',\\            \n",
    "        ]\n",
    "        \n",
    "     def solve_ode(self, t_pts, x_1_0, x_dot_1_0, x_2_0, x_dot_2_0, y_1_0, y_dot_1_0, y_2_0, y_dot_2_0 #Solves the ODE.\n",
    "                  abserr=1.0e-9, relerr=1.0e-9):    \n",
    "        \n",
    "         y = [x_1_0, x_dot_1_0, x_2_0, x_dot_2_0, y_1_0, y_dot_1_0, y_2_0, y_dot_2_0] \n",
    "         solution = solve_ivp(self.dy_dt, (t_pts[0], t_pts[-1]), \n",
    "                             y, t_eval=t_pts, \n",
    "                             atol=abserr, rtol=relerr)\n",
    "         x_1, x_dot_1, x_2, x_dot_2, y_1, y_dot_1, y_2, y_dot_2 = solution.y\n",
    "                 \n",
    "         return x_1, x_dot_1, x_2, x_dot_2, y_1, y_dot_1, y_2, y_dot_2\n",
    "        \n",
    "        \n",
    "        \n",
    "        \n",
    "        \n",
    "        "
   ]
  }
 ],
 "metadata": {
  "kernelspec": {
   "display_name": "Python 3",
   "language": "python",
   "name": "python3"
  },
  "language_info": {
   "codemirror_mode": {
    "name": "ipython",
    "version": 3
   },
   "file_extension": ".py",
   "mimetype": "text/x-python",
   "name": "python",
   "nbconvert_exporter": "python",
   "pygments_lexer": "ipython3",
   "version": "3.7.4"
  }
 },
 "nbformat": 4,
 "nbformat_minor": 2
}
